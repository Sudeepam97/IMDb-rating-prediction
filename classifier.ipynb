{
  "nbformat": 4,
  "nbformat_minor": 0,
  "metadata": {
    "colab": {
      "name": "classifier.ipynb",
      "provenance": [],
      "collapsed_sections": []
    },
    "kernelspec": {
      "name": "python3",
      "display_name": "Python 3"
    },
    "accelerator": "GPU"
  },
  "cells": [
    {
      "cell_type": "code",
      "metadata": {
        "id": "qvwz6Dgu4x-j",
        "colab_type": "code",
        "colab": {}
      },
      "source": [
        "from google.colab import drive\n",
        "drive.mount('/content/drive')"
      ],
      "execution_count": 0,
      "outputs": []
    },
    {
      "cell_type": "markdown",
      "metadata": {
        "id": "Nb6re3uy8aV-",
        "colab_type": "text"
      },
      "source": [
        "# Creating a Dataset"
      ]
    },
    {
      "cell_type": "code",
      "metadata": {
        "id": "VVVIuQL25VFe",
        "colab_type": "code",
        "outputId": "feec6397-de0f-46fc-9b69-e8de05fe93b2",
        "colab": {
          "base_uri": "https://localhost:8080/",
          "height": 34
        }
      },
      "source": [
        "%cd drive/My\\ Drive/Projects/movie_classification"
      ],
      "execution_count": 0,
      "outputs": [
        {
          "output_type": "stream",
          "text": [
            "/content/drive/My Drive/Projects/movie_classification\n"
          ],
          "name": "stdout"
        }
      ]
    },
    {
      "cell_type": "code",
      "metadata": {
        "id": "GjiEITsU8KGW",
        "colab_type": "code",
        "colab": {}
      },
      "source": [
        "import requests\n",
        "import time\n",
        "from bs4 import BeautifulSoup\n",
        "import pandas as pd"
      ],
      "execution_count": 0,
      "outputs": []
    },
    {
      "cell_type": "code",
      "metadata": {
        "id": "s9EGZCh0FiDi",
        "colab_type": "code",
        "colab": {}
      },
      "source": [
        "def find_director_and_cast_names(soup):\n",
        "  '''this function handles the scraping of cast and \n",
        "  director names which is slightly more tricky'''\n",
        "  director_and_cast = []\n",
        "  for mv in soup.find_all('p'):\n",
        "    content = mv.text[5:]\n",
        "    if content.startswith(\"Director\"):\n",
        "      names = content.replace('\\n', '').replace('    ', '/').replace('|', '')\n",
        "      director_and_cast.append(names)\n",
        "  return(director_and_cast)\n",
        "\n",
        "def scrape_data(soup):\n",
        "  '''returns the movie name, director of movie, cast,\n",
        "  runtime, rating, and genre of the movie. Synopsis later'''\n",
        "  movie_name = [mv.get('alt') for mv in soup.find_all('img')]\n",
        "  movie_name = movie_name[2:]\n",
        "\n",
        "  director_and_cast = find_director_and_cast_names(soup)\n",
        "  director_name = [mv[mv.find(':') + 1 : mv.find('/')] for mv in director_and_cast]\n",
        "  cast_names = [mv[mv.find('Stars:') + 6:] for mv in director_and_cast]\n",
        "\n",
        "  movie_runtime = [run_t.string.replace(' min', '') for run_t in soup.find_all('span', class_=\"runtime\")]\n",
        "  movie_rating = [rat.string for rat in soup.find_all('span', class_=\"value\")]\n",
        "  movie_genre = [gr.string[1:].rstrip() for gr in soup.find_all('span', class_=\"genre\")]\n",
        "\n",
        "  return movie_name, director_name, cast_names, movie_runtime, movie_rating, movie_genre"
      ],
      "execution_count": 0,
      "outputs": []
    },
    {
      "cell_type": "markdown",
      "metadata": {
        "id": "QIulHT4sYTDu",
        "colab_type": "text"
      },
      "source": [
        "***Note***: **`response.text`** shows the HTML whereas **`response.content`** shows the raw bytes. `lxml` is our parsing engine.\n",
        " "
      ]
    },
    {
      "cell_type": "code",
      "metadata": {
        "id": "h9Nn_2LrSbJi",
        "colab_type": "code",
        "colab": {}
      },
      "source": [
        "movie = []\n",
        "director = []\n",
        "cast = []\n",
        "runtime = []\n",
        "rating = []\n",
        "genre = []\n",
        "\n",
        "def get_features():\n",
        "  base_url_1 = 'https://www.imdb.com/search/title/?title_type=feature&year=1985-01-01,2019-12-31&sort=num_votes,desc&start='\n",
        "  base_url_2 = '&ref_=adv_nxt'\n",
        "  for i in range(1, 10000, 50):\n",
        "    time.sleep(1) # be nice to the servers :)\n",
        "    url = base_url_1 + str(i) + base_url_2\n",
        "    response = requests.get(url)\n",
        "    soup = BeautifulSoup(response.text, 'lxml')\n",
        "    movie_name, director_name, cast_names, movie_runtime, movie_rating, movie_genre = scrape_data(soup)\n",
        "\n",
        "    movie.extend(movie_name)\n",
        "    director.extend(director_name)\n",
        "    cast.extend(cast_names)\n",
        "    runtime.extend(movie_runtime)\n",
        "    rating.extend(movie_rating)\n",
        "    genre.extend(movie_genre)\n",
        "    print(\"Set \" + str(int((i-1) / 50) + 1) + \" done...\")\n",
        "\n",
        "get_features()\n",
        "# Handle an exception\n",
        "del director[6198]\n",
        "del cast[6198]\n",
        "print(\"All Done!\")"
      ],
      "execution_count": 0,
      "outputs": []
    },
    {
      "cell_type": "code",
      "metadata": {
        "id": "PDXjuy4pQ5to",
        "colab_type": "code",
        "colab": {}
      },
      "source": [
        "# Sanity Check the shapes of scraped data\n",
        "print(f\"movie: {len(movie)}\")\n",
        "print(f\"director: {len(director)}\")\n",
        "print(f\"cast: {len(cast)}\")\n",
        "print(f\"genre: {len(genre)}\")\n",
        "print(f\"runtime: {len(runtime)}\")\n",
        "print(f\"rating: {len(rating)}\")"
      ],
      "execution_count": 0,
      "outputs": []
    },
    {
      "cell_type": "code",
      "metadata": {
        "id": "6vRTmhLFyLfi",
        "colab_type": "code",
        "colab": {}
      },
      "source": [
        "output = pd.DataFrame({'movie': movie,\n",
        "                       'director': director,\n",
        "                       'genre': genre,\n",
        "                       'runtime': runtime,\n",
        "                       'cast': cast,\n",
        "                       'rating': rating})\n",
        "output.to_csv('data.csv', index=False)"
      ],
      "execution_count": 0,
      "outputs": []
    },
    {
      "cell_type": "code",
      "metadata": {
        "id": "D-T9wfFm8le_",
        "colab_type": "code",
        "outputId": "61a03ae8-bed5-4fcf-ab4d-045d02599164",
        "colab": {
          "base_uri": "https://localhost:8080/",
          "height": 34
        }
      },
      "source": [
        "%reset"
      ],
      "execution_count": 0,
      "outputs": [
        {
          "output_type": "stream",
          "text": [
            "Once deleted, variables cannot be recovered. Proceed (y/[n])? y\n"
          ],
          "name": "stdout"
        }
      ]
    },
    {
      "cell_type": "markdown",
      "metadata": {
        "id": "qV3d3TbG8Sv3",
        "colab_type": "text"
      },
      "source": [
        "# Feature Engineering"
      ]
    },
    {
      "cell_type": "code",
      "metadata": {
        "id": "EoDGNZGKoFFf",
        "colab_type": "code",
        "colab": {}
      },
      "source": [
        "%cd drive/My\\ Drive/Projects/movie_classification"
      ],
      "execution_count": 0,
      "outputs": []
    },
    {
      "cell_type": "code",
      "metadata": {
        "id": "JRfKjSxrrujX",
        "colab_type": "code",
        "colab": {}
      },
      "source": [
        "import pandas as pd\n",
        "import numpy as np"
      ],
      "execution_count": 0,
      "outputs": []
    },
    {
      "cell_type": "code",
      "metadata": {
        "id": "ES8xenVDp10k",
        "colab_type": "code",
        "outputId": "85941b2c-706b-41df-f0d8-0a6968504661",
        "colab": {
          "base_uri": "https://localhost:8080/",
          "height": 204
        }
      },
      "source": [
        "data = pd.read_csv('data.csv')\n",
        "data.head()"
      ],
      "execution_count": 0,
      "outputs": [
        {
          "output_type": "execute_result",
          "data": {
            "text/html": [
              "<div>\n",
              "<style scoped>\n",
              "    .dataframe tbody tr th:only-of-type {\n",
              "        vertical-align: middle;\n",
              "    }\n",
              "\n",
              "    .dataframe tbody tr th {\n",
              "        vertical-align: top;\n",
              "    }\n",
              "\n",
              "    .dataframe thead th {\n",
              "        text-align: right;\n",
              "    }\n",
              "</style>\n",
              "<table border=\"1\" class=\"dataframe\">\n",
              "  <thead>\n",
              "    <tr style=\"text-align: right;\">\n",
              "      <th></th>\n",
              "      <th>movie</th>\n",
              "      <th>director</th>\n",
              "      <th>genre</th>\n",
              "      <th>runtime</th>\n",
              "      <th>cast</th>\n",
              "      <th>rating</th>\n",
              "    </tr>\n",
              "  </thead>\n",
              "  <tbody>\n",
              "    <tr>\n",
              "      <th>0</th>\n",
              "      <td>The Shawshank Redemption</td>\n",
              "      <td>Frank Darabont</td>\n",
              "      <td>Drama</td>\n",
              "      <td>142</td>\n",
              "      <td>Tim Robbins, Morgan Freeman, Bob Gunton, Willi...</td>\n",
              "      <td>9.3</td>\n",
              "    </tr>\n",
              "    <tr>\n",
              "      <th>1</th>\n",
              "      <td>The Dark Knight</td>\n",
              "      <td>Christopher Nolan</td>\n",
              "      <td>Action, Crime, Drama</td>\n",
              "      <td>152</td>\n",
              "      <td>Christian Bale, Heath Ledger, Aaron Eckhart, M...</td>\n",
              "      <td>9.0</td>\n",
              "    </tr>\n",
              "    <tr>\n",
              "      <th>2</th>\n",
              "      <td>Inception</td>\n",
              "      <td>Christopher Nolan</td>\n",
              "      <td>Action, Adventure, Sci-Fi</td>\n",
              "      <td>148</td>\n",
              "      <td>Leonardo DiCaprio, Joseph Gordon-Levitt, Ellen...</td>\n",
              "      <td>8.8</td>\n",
              "    </tr>\n",
              "    <tr>\n",
              "      <th>3</th>\n",
              "      <td>Fight Club</td>\n",
              "      <td>David Fincher</td>\n",
              "      <td>Drama</td>\n",
              "      <td>139</td>\n",
              "      <td>Brad Pitt, Edward Norton, Meat Loaf, Zach Grenier</td>\n",
              "      <td>8.8</td>\n",
              "    </tr>\n",
              "    <tr>\n",
              "      <th>4</th>\n",
              "      <td>Pulp Fiction</td>\n",
              "      <td>Quentin Tarantino</td>\n",
              "      <td>Crime, Drama</td>\n",
              "      <td>154</td>\n",
              "      <td>John Travolta, Uma Thurman, Samuel L. Jackson,...</td>\n",
              "      <td>8.9</td>\n",
              "    </tr>\n",
              "  </tbody>\n",
              "</table>\n",
              "</div>"
            ],
            "text/plain": [
              "                      movie  ... rating\n",
              "0  The Shawshank Redemption  ...    9.3\n",
              "1           The Dark Knight  ...    9.0\n",
              "2                 Inception  ...    8.8\n",
              "3                Fight Club  ...    8.8\n",
              "4              Pulp Fiction  ...    8.9\n",
              "\n",
              "[5 rows x 6 columns]"
            ]
          },
          "metadata": {
            "tags": []
          },
          "execution_count": 9
        }
      ]
    },
    {
      "cell_type": "code",
      "metadata": {
        "id": "b5bIqMa0ljFd",
        "colab_type": "code",
        "colab": {}
      },
      "source": [
        "def split_column_values(column):\n",
        "  column_vals = data.loc[:, column]\n",
        "  df = pd.DataFrame([curr_movie.split(\", \") for curr_movie in column_vals])\n",
        "\n",
        "  if column == 'director':\n",
        "    df.drop(range(2, len(df.columns)), axis = 1, inplace = True) # keep the 2 major directors\n",
        "    df.columns = [\"director_0\", \"director_1\"]\n",
        "    df.director_1.fillna(df.director_0, inplace = True)\n",
        "  elif column == 'cast':\n",
        "    df.columns = [\"lead_\" + str(i) for i in range(0, len(df.columns))]\n",
        "  elif column == 'genre':\n",
        "    df = pd.get_dummies(df, prefix_sep='', prefix='').max(level=0, axis=1)   \n",
        "\n",
        "  return df"
      ],
      "execution_count": 0,
      "outputs": []
    },
    {
      "cell_type": "code",
      "metadata": {
        "id": "WOLb4U-XLy_1",
        "colab_type": "code",
        "outputId": "daf7fb9c-21af-449f-c41e-ef7b6e682911",
        "colab": {
          "base_uri": "https://localhost:8080/",
          "height": 377
        }
      },
      "source": [
        "# Call\n",
        "directors = split_column_values('director')\n",
        "cast_members = split_column_values('cast')\n",
        "genres = split_column_values('genre')\n",
        "data.drop(['director', 'cast', 'genre'], axis = 1, inplace = True)\n",
        "data = pd.concat([directors, cast_members, genres, data], axis=1)\n",
        "data.head()"
      ],
      "execution_count": 0,
      "outputs": [
        {
          "output_type": "execute_result",
          "data": {
            "text/html": [
              "<div>\n",
              "<style scoped>\n",
              "    .dataframe tbody tr th:only-of-type {\n",
              "        vertical-align: middle;\n",
              "    }\n",
              "\n",
              "    .dataframe tbody tr th {\n",
              "        vertical-align: top;\n",
              "    }\n",
              "\n",
              "    .dataframe thead th {\n",
              "        text-align: right;\n",
              "    }\n",
              "</style>\n",
              "<table border=\"1\" class=\"dataframe\">\n",
              "  <thead>\n",
              "    <tr style=\"text-align: right;\">\n",
              "      <th></th>\n",
              "      <th>director_0</th>\n",
              "      <th>director_1</th>\n",
              "      <th>lead_0</th>\n",
              "      <th>lead_1</th>\n",
              "      <th>lead_2</th>\n",
              "      <th>lead_3</th>\n",
              "      <th>Action</th>\n",
              "      <th>Adventure</th>\n",
              "      <th>Animation</th>\n",
              "      <th>Biography</th>\n",
              "      <th>Comedy</th>\n",
              "      <th>Crime</th>\n",
              "      <th>Drama</th>\n",
              "      <th>Family</th>\n",
              "      <th>Fantasy</th>\n",
              "      <th>Horror</th>\n",
              "      <th>Music</th>\n",
              "      <th>Musical</th>\n",
              "      <th>Mystery</th>\n",
              "      <th>Romance</th>\n",
              "      <th>Sci-Fi</th>\n",
              "      <th>Thriller</th>\n",
              "      <th>War</th>\n",
              "      <th>History</th>\n",
              "      <th>Sport</th>\n",
              "      <th>Western</th>\n",
              "      <th>movie</th>\n",
              "      <th>runtime</th>\n",
              "      <th>rating</th>\n",
              "    </tr>\n",
              "  </thead>\n",
              "  <tbody>\n",
              "    <tr>\n",
              "      <th>0</th>\n",
              "      <td>Frank Darabont</td>\n",
              "      <td>Frank Darabont</td>\n",
              "      <td>Tim Robbins</td>\n",
              "      <td>Morgan Freeman</td>\n",
              "      <td>Bob Gunton</td>\n",
              "      <td>William Sadler</td>\n",
              "      <td>0</td>\n",
              "      <td>0</td>\n",
              "      <td>0</td>\n",
              "      <td>0</td>\n",
              "      <td>0</td>\n",
              "      <td>0</td>\n",
              "      <td>1</td>\n",
              "      <td>0</td>\n",
              "      <td>0</td>\n",
              "      <td>0</td>\n",
              "      <td>0</td>\n",
              "      <td>0</td>\n",
              "      <td>0</td>\n",
              "      <td>0</td>\n",
              "      <td>0</td>\n",
              "      <td>0</td>\n",
              "      <td>0</td>\n",
              "      <td>0</td>\n",
              "      <td>0</td>\n",
              "      <td>0</td>\n",
              "      <td>The Shawshank Redemption</td>\n",
              "      <td>142</td>\n",
              "      <td>9.3</td>\n",
              "    </tr>\n",
              "    <tr>\n",
              "      <th>1</th>\n",
              "      <td>Christopher Nolan</td>\n",
              "      <td>Christopher Nolan</td>\n",
              "      <td>Christian Bale</td>\n",
              "      <td>Heath Ledger</td>\n",
              "      <td>Aaron Eckhart</td>\n",
              "      <td>Michael Caine</td>\n",
              "      <td>1</td>\n",
              "      <td>0</td>\n",
              "      <td>0</td>\n",
              "      <td>0</td>\n",
              "      <td>0</td>\n",
              "      <td>1</td>\n",
              "      <td>1</td>\n",
              "      <td>0</td>\n",
              "      <td>0</td>\n",
              "      <td>0</td>\n",
              "      <td>0</td>\n",
              "      <td>0</td>\n",
              "      <td>0</td>\n",
              "      <td>0</td>\n",
              "      <td>0</td>\n",
              "      <td>0</td>\n",
              "      <td>0</td>\n",
              "      <td>0</td>\n",
              "      <td>0</td>\n",
              "      <td>0</td>\n",
              "      <td>The Dark Knight</td>\n",
              "      <td>152</td>\n",
              "      <td>9.0</td>\n",
              "    </tr>\n",
              "    <tr>\n",
              "      <th>2</th>\n",
              "      <td>Christopher Nolan</td>\n",
              "      <td>Christopher Nolan</td>\n",
              "      <td>Leonardo DiCaprio</td>\n",
              "      <td>Joseph Gordon-Levitt</td>\n",
              "      <td>Ellen Page</td>\n",
              "      <td>Ken Watanabe</td>\n",
              "      <td>1</td>\n",
              "      <td>1</td>\n",
              "      <td>0</td>\n",
              "      <td>0</td>\n",
              "      <td>0</td>\n",
              "      <td>0</td>\n",
              "      <td>0</td>\n",
              "      <td>0</td>\n",
              "      <td>0</td>\n",
              "      <td>0</td>\n",
              "      <td>0</td>\n",
              "      <td>0</td>\n",
              "      <td>0</td>\n",
              "      <td>0</td>\n",
              "      <td>1</td>\n",
              "      <td>0</td>\n",
              "      <td>0</td>\n",
              "      <td>0</td>\n",
              "      <td>0</td>\n",
              "      <td>0</td>\n",
              "      <td>Inception</td>\n",
              "      <td>148</td>\n",
              "      <td>8.8</td>\n",
              "    </tr>\n",
              "    <tr>\n",
              "      <th>3</th>\n",
              "      <td>David Fincher</td>\n",
              "      <td>David Fincher</td>\n",
              "      <td>Brad Pitt</td>\n",
              "      <td>Edward Norton</td>\n",
              "      <td>Meat Loaf</td>\n",
              "      <td>Zach Grenier</td>\n",
              "      <td>0</td>\n",
              "      <td>0</td>\n",
              "      <td>0</td>\n",
              "      <td>0</td>\n",
              "      <td>0</td>\n",
              "      <td>0</td>\n",
              "      <td>1</td>\n",
              "      <td>0</td>\n",
              "      <td>0</td>\n",
              "      <td>0</td>\n",
              "      <td>0</td>\n",
              "      <td>0</td>\n",
              "      <td>0</td>\n",
              "      <td>0</td>\n",
              "      <td>0</td>\n",
              "      <td>0</td>\n",
              "      <td>0</td>\n",
              "      <td>0</td>\n",
              "      <td>0</td>\n",
              "      <td>0</td>\n",
              "      <td>Fight Club</td>\n",
              "      <td>139</td>\n",
              "      <td>8.8</td>\n",
              "    </tr>\n",
              "    <tr>\n",
              "      <th>4</th>\n",
              "      <td>Quentin Tarantino</td>\n",
              "      <td>Quentin Tarantino</td>\n",
              "      <td>John Travolta</td>\n",
              "      <td>Uma Thurman</td>\n",
              "      <td>Samuel L. Jackson</td>\n",
              "      <td>Bruce Willis</td>\n",
              "      <td>0</td>\n",
              "      <td>0</td>\n",
              "      <td>0</td>\n",
              "      <td>0</td>\n",
              "      <td>0</td>\n",
              "      <td>1</td>\n",
              "      <td>1</td>\n",
              "      <td>0</td>\n",
              "      <td>0</td>\n",
              "      <td>0</td>\n",
              "      <td>0</td>\n",
              "      <td>0</td>\n",
              "      <td>0</td>\n",
              "      <td>0</td>\n",
              "      <td>0</td>\n",
              "      <td>0</td>\n",
              "      <td>0</td>\n",
              "      <td>0</td>\n",
              "      <td>0</td>\n",
              "      <td>0</td>\n",
              "      <td>Pulp Fiction</td>\n",
              "      <td>154</td>\n",
              "      <td>8.9</td>\n",
              "    </tr>\n",
              "  </tbody>\n",
              "</table>\n",
              "</div>"
            ],
            "text/plain": [
              "          director_0         director_1  ... runtime rating\n",
              "0     Frank Darabont     Frank Darabont  ...     142    9.3\n",
              "1  Christopher Nolan  Christopher Nolan  ...     152    9.0\n",
              "2  Christopher Nolan  Christopher Nolan  ...     148    8.8\n",
              "3      David Fincher      David Fincher  ...     139    8.8\n",
              "4  Quentin Tarantino  Quentin Tarantino  ...     154    8.9\n",
              "\n",
              "[5 rows x 29 columns]"
            ]
          },
          "metadata": {
            "tags": []
          },
          "execution_count": 11
        }
      ]
    },
    {
      "cell_type": "code",
      "metadata": {
        "id": "8Tuvz_i-Ao8K",
        "colab_type": "code",
        "outputId": "8ef15dd7-2bc8-41ed-ffa5-8d5c817e8640",
        "colab": {
          "base_uri": "https://localhost:8080/",
          "height": 34
        }
      },
      "source": [
        "# Check for columns with missing values\n",
        "print(data.columns[data.isnull().any()])"
      ],
      "execution_count": 0,
      "outputs": [
        {
          "output_type": "stream",
          "text": [
            "Index(['lead_1', 'lead_2', 'lead_3'], dtype='object')\n"
          ],
          "name": "stdout"
        }
      ]
    },
    {
      "cell_type": "code",
      "metadata": {
        "id": "6_nmZU4sA4ZF",
        "colab_type": "code",
        "outputId": "36851931-a709-4bb9-ef64-3e66ab87a7c5",
        "colab": {
          "base_uri": "https://localhost:8080/",
          "height": 34
        }
      },
      "source": [
        "# Drop the rows with columns having missing values\n",
        "data = data[pd.notnull(data['lead_1'])]\n",
        "data = data[pd.notnull(data['lead_2'])]\n",
        "data = data[pd.notnull(data['lead_3'])]\n",
        "print(len(data)) # Dropping was fine because only a few data points were lost "
      ],
      "execution_count": 0,
      "outputs": [
        {
          "output_type": "stream",
          "text": [
            "9979\n"
          ],
          "name": "stdout"
        }
      ]
    },
    {
      "cell_type": "code",
      "metadata": {
        "id": "NFi_Qg_Rttox",
        "colab_type": "code",
        "colab": {}
      },
      "source": [
        "def scores_from_each_movie(contributors):\n",
        "  '''returns a dataframe that contains the contribution of\n",
        "  each movie to the score of its cast or director.\n",
        "  Input:\n",
        "  -----\n",
        "  Assuming average rating = x, and input is:\n",
        "\n",
        "            | lead_0 | lead_1 | lead_2 | lead_3 | rating\n",
        "              ------   ------   ------   ------   ------\n",
        "  movie_xyz |    A   |    B   |    C   |   D    |   9\n",
        "  \n",
        "  output: Scores for A, B, C and D respectively\n",
        "  ------\n",
        "            | lead_0   |  lead_1  |  lead_2  |  lead_3\n",
        "              ------   |  ------  |  ------  |  ------\n",
        "  movie_xyz |  6*(9-x) |  5*(9-x) |  4*(9-x) |  3*(9-x)   \n",
        "  '''\n",
        "  normalized_ratings = data['rating'].sub(data['rating'].mean(), axis = 0)\n",
        "  if contributors == 'cast':\n",
        "    scores = [normalized_ratings * i for i in [6, 5, 4, 3]] # [6, 5, 4, 3] are scores per member according to contribution\n",
        "  elif contributors == 'director':\n",
        "    scores = [normalized_ratings * i for i in [5, 5]]\n",
        "\n",
        "  scores = np.array(scores).transpose()\n",
        "  return pd.DataFrame(scores)\n",
        "\n",
        "def get_contributors_rating(contributors):\n",
        "  '''Returns a numerical rating for each director\n",
        "  and actor in the form of a dictonary'''\n",
        "  score_df = scores_from_each_movie(contributors)\n",
        "  if contributors == 'cast':\n",
        "    df_temp = data[['lead_0', 'lead_1', 'lead_2', 'lead_3']]\n",
        "  elif contributors == 'director':\n",
        "    df_temp = data[['director_0', 'director_1']]\n",
        "  contributors_ratings = score_df.stack().groupby(df_temp.stack().values).mean().to_dict()\n",
        "  return contributors_ratings"
      ],
      "execution_count": 0,
      "outputs": []
    },
    {
      "cell_type": "code",
      "metadata": {
        "id": "_yeBZa-_XvYp",
        "colab_type": "code",
        "colab": {}
      },
      "source": [
        "# Call\n",
        "actor_ratings = get_contributors_rating('cast')\n",
        "director_ratings = get_contributors_rating('director')\n",
        "print(actor_ratings)\n",
        "print(director_ratings)"
      ],
      "execution_count": 0,
      "outputs": []
    },
    {
      "cell_type": "code",
      "metadata": {
        "id": "BK0mCSIiEFom",
        "colab_type": "code",
        "colab": {}
      },
      "source": [
        "def replace_with_scores(contributors):\n",
        "  df_temp = None\n",
        "  if contributors == 'cast':\n",
        "    df_temp = pd.DataFrame(data['lead_0'].map(actor_ratings))\n",
        "    for lead in ['lead_1', 'lead_2', 'lead_3']:\n",
        "      df = pd.DataFrame(data[lead].map(actor_ratings))\n",
        "      df_temp = pd.concat([df_temp, df], axis=1)\n",
        "  elif contributors == 'director':\n",
        "    df_temp = pd.DataFrame(data['director_0'].map(director_ratings))\n",
        "    df = pd.DataFrame(data['director_1'].map(director_ratings))\n",
        "    df_temp = pd.concat([df_temp, df], axis=1)\n",
        "  return df_temp"
      ],
      "execution_count": 0,
      "outputs": []
    },
    {
      "cell_type": "code",
      "metadata": {
        "id": "ewfZEdxVr1vB",
        "colab_type": "code",
        "outputId": "5121b536-993a-4c25-9f8e-f57fbb57fa1a",
        "colab": {
          "base_uri": "https://localhost:8080/",
          "height": 292
        }
      },
      "source": [
        "df_1 = replace_with_scores('cast')\n",
        "df_2 = replace_with_scores('director')\n",
        "data.drop(['director_0', 'director_1', 'lead_0', 'lead_1', 'lead_2', 'lead_3'], axis = 1, inplace = True)\n",
        "data = pd.concat([df_1, df_2, data], axis=1)\n",
        "data.head()"
      ],
      "execution_count": 0,
      "outputs": [
        {
          "output_type": "execute_result",
          "data": {
            "text/html": [
              "<div>\n",
              "<style scoped>\n",
              "    .dataframe tbody tr th:only-of-type {\n",
              "        vertical-align: middle;\n",
              "    }\n",
              "\n",
              "    .dataframe tbody tr th {\n",
              "        vertical-align: top;\n",
              "    }\n",
              "\n",
              "    .dataframe thead th {\n",
              "        text-align: right;\n",
              "    }\n",
              "</style>\n",
              "<table border=\"1\" class=\"dataframe\">\n",
              "  <thead>\n",
              "    <tr style=\"text-align: right;\">\n",
              "      <th></th>\n",
              "      <th>lead_0</th>\n",
              "      <th>lead_1</th>\n",
              "      <th>lead_2</th>\n",
              "      <th>lead_3</th>\n",
              "      <th>director_0</th>\n",
              "      <th>director_1</th>\n",
              "      <th>Action</th>\n",
              "      <th>Adventure</th>\n",
              "      <th>Animation</th>\n",
              "      <th>Biography</th>\n",
              "      <th>Comedy</th>\n",
              "      <th>Crime</th>\n",
              "      <th>Drama</th>\n",
              "      <th>Family</th>\n",
              "      <th>Fantasy</th>\n",
              "      <th>Horror</th>\n",
              "      <th>Music</th>\n",
              "      <th>Musical</th>\n",
              "      <th>Mystery</th>\n",
              "      <th>Romance</th>\n",
              "      <th>Sci-Fi</th>\n",
              "      <th>Thriller</th>\n",
              "      <th>War</th>\n",
              "      <th>History</th>\n",
              "      <th>Sport</th>\n",
              "      <th>Western</th>\n",
              "      <th>movie</th>\n",
              "      <th>runtime</th>\n",
              "      <th>rating</th>\n",
              "    </tr>\n",
              "  </thead>\n",
              "  <tbody>\n",
              "    <tr>\n",
              "      <th>0</th>\n",
              "      <td>1.543622</td>\n",
              "      <td>0.750132</td>\n",
              "      <td>-0.667536</td>\n",
              "      <td>0.450058</td>\n",
              "      <td>7.767311</td>\n",
              "      <td>7.767311</td>\n",
              "      <td>0</td>\n",
              "      <td>0</td>\n",
              "      <td>0</td>\n",
              "      <td>0</td>\n",
              "      <td>0</td>\n",
              "      <td>0</td>\n",
              "      <td>1</td>\n",
              "      <td>0</td>\n",
              "      <td>0</td>\n",
              "      <td>0</td>\n",
              "      <td>0</td>\n",
              "      <td>0</td>\n",
              "      <td>0</td>\n",
              "      <td>0</td>\n",
              "      <td>0</td>\n",
              "      <td>0</td>\n",
              "      <td>0</td>\n",
              "      <td>0</td>\n",
              "      <td>0</td>\n",
              "      <td>0</td>\n",
              "      <td>The Shawshank Redemption</td>\n",
              "      <td>142</td>\n",
              "      <td>9.3</td>\n",
              "    </tr>\n",
              "    <tr>\n",
              "      <th>1</th>\n",
              "      <td>3.784812</td>\n",
              "      <td>2.532260</td>\n",
              "      <td>0.077725</td>\n",
              "      <td>2.069438</td>\n",
              "      <td>9.067311</td>\n",
              "      <td>9.067311</td>\n",
              "      <td>1</td>\n",
              "      <td>0</td>\n",
              "      <td>0</td>\n",
              "      <td>0</td>\n",
              "      <td>0</td>\n",
              "      <td>1</td>\n",
              "      <td>1</td>\n",
              "      <td>0</td>\n",
              "      <td>0</td>\n",
              "      <td>0</td>\n",
              "      <td>0</td>\n",
              "      <td>0</td>\n",
              "      <td>0</td>\n",
              "      <td>0</td>\n",
              "      <td>0</td>\n",
              "      <td>0</td>\n",
              "      <td>0</td>\n",
              "      <td>0</td>\n",
              "      <td>0</td>\n",
              "      <td>0</td>\n",
              "      <td>The Dark Knight</td>\n",
              "      <td>152</td>\n",
              "      <td>9.0</td>\n",
              "    </tr>\n",
              "    <tr>\n",
              "      <th>2</th>\n",
              "      <td>5.861750</td>\n",
              "      <td>2.766140</td>\n",
              "      <td>0.748994</td>\n",
              "      <td>4.576114</td>\n",
              "      <td>9.067311</td>\n",
              "      <td>9.067311</td>\n",
              "      <td>1</td>\n",
              "      <td>1</td>\n",
              "      <td>0</td>\n",
              "      <td>0</td>\n",
              "      <td>0</td>\n",
              "      <td>0</td>\n",
              "      <td>0</td>\n",
              "      <td>0</td>\n",
              "      <td>0</td>\n",
              "      <td>0</td>\n",
              "      <td>0</td>\n",
              "      <td>0</td>\n",
              "      <td>0</td>\n",
              "      <td>0</td>\n",
              "      <td>1</td>\n",
              "      <td>0</td>\n",
              "      <td>0</td>\n",
              "      <td>0</td>\n",
              "      <td>0</td>\n",
              "      <td>0</td>\n",
              "      <td>Inception</td>\n",
              "      <td>148</td>\n",
              "      <td>8.8</td>\n",
              "    </tr>\n",
              "    <tr>\n",
              "      <th>3</th>\n",
              "      <td>3.975257</td>\n",
              "      <td>3.271659</td>\n",
              "      <td>1.196028</td>\n",
              "      <td>2.260387</td>\n",
              "      <td>6.517311</td>\n",
              "      <td>6.517311</td>\n",
              "      <td>0</td>\n",
              "      <td>0</td>\n",
              "      <td>0</td>\n",
              "      <td>0</td>\n",
              "      <td>0</td>\n",
              "      <td>0</td>\n",
              "      <td>1</td>\n",
              "      <td>0</td>\n",
              "      <td>0</td>\n",
              "      <td>0</td>\n",
              "      <td>0</td>\n",
              "      <td>0</td>\n",
              "      <td>0</td>\n",
              "      <td>0</td>\n",
              "      <td>0</td>\n",
              "      <td>0</td>\n",
              "      <td>0</td>\n",
              "      <td>0</td>\n",
              "      <td>0</td>\n",
              "      <td>0</td>\n",
              "      <td>Fight Club</td>\n",
              "      <td>139</td>\n",
              "      <td>8.8</td>\n",
              "    </tr>\n",
              "    <tr>\n",
              "      <th>4</th>\n",
              "      <td>-2.394897</td>\n",
              "      <td>-1.611668</td>\n",
              "      <td>-0.533383</td>\n",
              "      <td>-1.313259</td>\n",
              "      <td>8.167311</td>\n",
              "      <td>8.167311</td>\n",
              "      <td>0</td>\n",
              "      <td>0</td>\n",
              "      <td>0</td>\n",
              "      <td>0</td>\n",
              "      <td>0</td>\n",
              "      <td>1</td>\n",
              "      <td>1</td>\n",
              "      <td>0</td>\n",
              "      <td>0</td>\n",
              "      <td>0</td>\n",
              "      <td>0</td>\n",
              "      <td>0</td>\n",
              "      <td>0</td>\n",
              "      <td>0</td>\n",
              "      <td>0</td>\n",
              "      <td>0</td>\n",
              "      <td>0</td>\n",
              "      <td>0</td>\n",
              "      <td>0</td>\n",
              "      <td>0</td>\n",
              "      <td>Pulp Fiction</td>\n",
              "      <td>154</td>\n",
              "      <td>8.9</td>\n",
              "    </tr>\n",
              "  </tbody>\n",
              "</table>\n",
              "</div>"
            ],
            "text/plain": [
              "     lead_0    lead_1    lead_2  ...                     movie  runtime  rating\n",
              "0  1.543622  0.750132 -0.667536  ...  The Shawshank Redemption      142     9.3\n",
              "1  3.784812  2.532260  0.077725  ...           The Dark Knight      152     9.0\n",
              "2  5.861750  2.766140  0.748994  ...                 Inception      148     8.8\n",
              "3  3.975257  3.271659  1.196028  ...                Fight Club      139     8.8\n",
              "4 -2.394897 -1.611668 -0.533383  ...              Pulp Fiction      154     8.9\n",
              "\n",
              "[5 rows x 29 columns]"
            ]
          },
          "metadata": {
            "tags": []
          },
          "execution_count": 17
        }
      ]
    },
    {
      "cell_type": "code",
      "metadata": {
        "id": "BprtXsdcujHF",
        "colab_type": "code",
        "outputId": "a98e3475-3cea-4e4d-b69c-eb640793789f",
        "colab": {
          "base_uri": "https://localhost:8080/",
          "height": 596
        }
      },
      "source": [
        "import matplotlib.pyplot as plt\n",
        "import seaborn as sns\n",
        "engineered = data[['lead_0', 'lead_1', 'lead_2', 'lead_3', 'director_0', 'director_1', 'runtime', 'rating']]\n",
        "corrmat = engineered.corr()\n",
        "top_corr_features = corrmat.index\n",
        "plt.figure(figsize=(10, 10))\n",
        "g=sns.heatmap(data[top_corr_features].corr(),annot=True,cmap=\"RdYlGn\")"
      ],
      "execution_count": 0,
      "outputs": [
        {
          "output_type": "display_data",
          "data": {
            "image/png": "[encoded data removed]",
            "text/plain": [
              "<Figure size 720x720 with 2 Axes>"
            ]
          },
          "metadata": {
            "tags": []
          }
        }
      ]
    },
    {
      "cell_type": "code",
      "metadata": {
        "id": "gqJqNUE4P71L",
        "colab_type": "code",
        "colab": {}
      },
      "source": [
        "# cast and directors have been well correlated\n",
        "# with ratings so we can save this data now.\n",
        "data.to_csv('processed_data.csv', index=False)"
      ],
      "execution_count": 0,
      "outputs": []
    },
    {
      "cell_type": "markdown",
      "metadata": {
        "id": "4N39m8AjQKyo",
        "colab_type": "text"
      },
      "source": [
        "# Model Building"
      ]
    },
    {
      "cell_type": "code",
      "metadata": {
        "id": "NgF4xohuRzq8",
        "colab_type": "code",
        "outputId": "3b9f7e38-3d1e-4512-c849-bfef906f8212",
        "colab": {
          "base_uri": "https://localhost:8080/",
          "height": 51
        }
      },
      "source": [
        "%reset\n",
        "%cd drive/My\\ Drive/Projects/movie_classification"
      ],
      "execution_count": 1,
      "outputs": [
        {
          "output_type": "stream",
          "text": [
            "Once deleted, variables cannot be recovered. Proceed (y/[n])? y\n",
            "/content/drive/My Drive/Projects/movie_classification\n"
          ],
          "name": "stdout"
        }
      ]
    },
    {
      "cell_type": "code",
      "metadata": {
        "id": "-g43bPGrQfie",
        "colab_type": "code",
        "colab": {}
      },
      "source": [
        "import pandas as pd\n",
        "import numpy as np\n",
        "from tensorflow.keras.models import Sequential\n",
        "from tensorflow.keras.layers import Dense, Activation\n",
        "from tensorflow.keras.optimizers import Adam\n",
        "import matplotlib.pyplot as plt\n",
        "from sklearn.model_selection import train_test_split"
      ],
      "execution_count": 0,
      "outputs": []
    },
    {
      "cell_type": "code",
      "metadata": {
        "id": "7dUFw4PzQSg7",
        "colab_type": "code",
        "outputId": "45f65aa3-2b84-4422-90f2-0a2b190b8c61",
        "colab": {
          "base_uri": "https://localhost:8080/",
          "height": 292
        }
      },
      "source": [
        "data = pd.read_csv('processed_data.csv')\n",
        "data.head()"
      ],
      "execution_count": 3,
      "outputs": [
        {
          "output_type": "execute_result",
          "data": {
            "text/html": [
              "<div>\n",
              "<style scoped>\n",
              "    .dataframe tbody tr th:only-of-type {\n",
              "        vertical-align: middle;\n",
              "    }\n",
              "\n",
              "    .dataframe tbody tr th {\n",
              "        vertical-align: top;\n",
              "    }\n",
              "\n",
              "    .dataframe thead th {\n",
              "        text-align: right;\n",
              "    }\n",
              "</style>\n",
              "<table border=\"1\" class=\"dataframe\">\n",
              "  <thead>\n",
              "    <tr style=\"text-align: right;\">\n",
              "      <th></th>\n",
              "      <th>lead_0</th>\n",
              "      <th>lead_1</th>\n",
              "      <th>lead_2</th>\n",
              "      <th>lead_3</th>\n",
              "      <th>director_0</th>\n",
              "      <th>director_1</th>\n",
              "      <th>Action</th>\n",
              "      <th>Adventure</th>\n",
              "      <th>Animation</th>\n",
              "      <th>Biography</th>\n",
              "      <th>Comedy</th>\n",
              "      <th>Crime</th>\n",
              "      <th>Drama</th>\n",
              "      <th>Family</th>\n",
              "      <th>Fantasy</th>\n",
              "      <th>Horror</th>\n",
              "      <th>Music</th>\n",
              "      <th>Musical</th>\n",
              "      <th>Mystery</th>\n",
              "      <th>Romance</th>\n",
              "      <th>Sci-Fi</th>\n",
              "      <th>Thriller</th>\n",
              "      <th>War</th>\n",
              "      <th>History</th>\n",
              "      <th>Sport</th>\n",
              "      <th>Western</th>\n",
              "      <th>movie</th>\n",
              "      <th>runtime</th>\n",
              "      <th>rating</th>\n",
              "    </tr>\n",
              "  </thead>\n",
              "  <tbody>\n",
              "    <tr>\n",
              "      <th>0</th>\n",
              "      <td>1.543622</td>\n",
              "      <td>0.750132</td>\n",
              "      <td>-0.667536</td>\n",
              "      <td>0.450058</td>\n",
              "      <td>7.767311</td>\n",
              "      <td>7.767311</td>\n",
              "      <td>0</td>\n",
              "      <td>0</td>\n",
              "      <td>0</td>\n",
              "      <td>0</td>\n",
              "      <td>0</td>\n",
              "      <td>0</td>\n",
              "      <td>1</td>\n",
              "      <td>0</td>\n",
              "      <td>0</td>\n",
              "      <td>0</td>\n",
              "      <td>0</td>\n",
              "      <td>0</td>\n",
              "      <td>0</td>\n",
              "      <td>0</td>\n",
              "      <td>0</td>\n",
              "      <td>0</td>\n",
              "      <td>0</td>\n",
              "      <td>0</td>\n",
              "      <td>0</td>\n",
              "      <td>0</td>\n",
              "      <td>The Shawshank Redemption</td>\n",
              "      <td>142</td>\n",
              "      <td>9.3</td>\n",
              "    </tr>\n",
              "    <tr>\n",
              "      <th>1</th>\n",
              "      <td>3.784812</td>\n",
              "      <td>2.532260</td>\n",
              "      <td>0.077725</td>\n",
              "      <td>2.069438</td>\n",
              "      <td>9.067311</td>\n",
              "      <td>9.067311</td>\n",
              "      <td>1</td>\n",
              "      <td>0</td>\n",
              "      <td>0</td>\n",
              "      <td>0</td>\n",
              "      <td>0</td>\n",
              "      <td>1</td>\n",
              "      <td>1</td>\n",
              "      <td>0</td>\n",
              "      <td>0</td>\n",
              "      <td>0</td>\n",
              "      <td>0</td>\n",
              "      <td>0</td>\n",
              "      <td>0</td>\n",
              "      <td>0</td>\n",
              "      <td>0</td>\n",
              "      <td>0</td>\n",
              "      <td>0</td>\n",
              "      <td>0</td>\n",
              "      <td>0</td>\n",
              "      <td>0</td>\n",
              "      <td>The Dark Knight</td>\n",
              "      <td>152</td>\n",
              "      <td>9.0</td>\n",
              "    </tr>\n",
              "    <tr>\n",
              "      <th>2</th>\n",
              "      <td>5.861750</td>\n",
              "      <td>2.766140</td>\n",
              "      <td>0.748994</td>\n",
              "      <td>4.576114</td>\n",
              "      <td>9.067311</td>\n",
              "      <td>9.067311</td>\n",
              "      <td>1</td>\n",
              "      <td>1</td>\n",
              "      <td>0</td>\n",
              "      <td>0</td>\n",
              "      <td>0</td>\n",
              "      <td>0</td>\n",
              "      <td>0</td>\n",
              "      <td>0</td>\n",
              "      <td>0</td>\n",
              "      <td>0</td>\n",
              "      <td>0</td>\n",
              "      <td>0</td>\n",
              "      <td>0</td>\n",
              "      <td>0</td>\n",
              "      <td>1</td>\n",
              "      <td>0</td>\n",
              "      <td>0</td>\n",
              "      <td>0</td>\n",
              "      <td>0</td>\n",
              "      <td>0</td>\n",
              "      <td>Inception</td>\n",
              "      <td>148</td>\n",
              "      <td>8.8</td>\n",
              "    </tr>\n",
              "    <tr>\n",
              "      <th>3</th>\n",
              "      <td>3.975257</td>\n",
              "      <td>3.271659</td>\n",
              "      <td>1.196028</td>\n",
              "      <td>2.260387</td>\n",
              "      <td>6.517311</td>\n",
              "      <td>6.517311</td>\n",
              "      <td>0</td>\n",
              "      <td>0</td>\n",
              "      <td>0</td>\n",
              "      <td>0</td>\n",
              "      <td>0</td>\n",
              "      <td>0</td>\n",
              "      <td>1</td>\n",
              "      <td>0</td>\n",
              "      <td>0</td>\n",
              "      <td>0</td>\n",
              "      <td>0</td>\n",
              "      <td>0</td>\n",
              "      <td>0</td>\n",
              "      <td>0</td>\n",
              "      <td>0</td>\n",
              "      <td>0</td>\n",
              "      <td>0</td>\n",
              "      <td>0</td>\n",
              "      <td>0</td>\n",
              "      <td>0</td>\n",
              "      <td>Fight Club</td>\n",
              "      <td>139</td>\n",
              "      <td>8.8</td>\n",
              "    </tr>\n",
              "    <tr>\n",
              "      <th>4</th>\n",
              "      <td>-2.394897</td>\n",
              "      <td>-1.611668</td>\n",
              "      <td>-0.533383</td>\n",
              "      <td>-1.313259</td>\n",
              "      <td>8.167311</td>\n",
              "      <td>8.167311</td>\n",
              "      <td>0</td>\n",
              "      <td>0</td>\n",
              "      <td>0</td>\n",
              "      <td>0</td>\n",
              "      <td>0</td>\n",
              "      <td>1</td>\n",
              "      <td>1</td>\n",
              "      <td>0</td>\n",
              "      <td>0</td>\n",
              "      <td>0</td>\n",
              "      <td>0</td>\n",
              "      <td>0</td>\n",
              "      <td>0</td>\n",
              "      <td>0</td>\n",
              "      <td>0</td>\n",
              "      <td>0</td>\n",
              "      <td>0</td>\n",
              "      <td>0</td>\n",
              "      <td>0</td>\n",
              "      <td>0</td>\n",
              "      <td>Pulp Fiction</td>\n",
              "      <td>154</td>\n",
              "      <td>8.9</td>\n",
              "    </tr>\n",
              "  </tbody>\n",
              "</table>\n",
              "</div>"
            ],
            "text/plain": [
              "     lead_0    lead_1    lead_2  ...                     movie  runtime  rating\n",
              "0  1.543622  0.750132 -0.667536  ...  The Shawshank Redemption      142     9.3\n",
              "1  3.784812  2.532260  0.077725  ...           The Dark Knight      152     9.0\n",
              "2  5.861750  2.766140  0.748994  ...                 Inception      148     8.8\n",
              "3  3.975257  3.271659  1.196028  ...                Fight Club      139     8.8\n",
              "4 -2.394897 -1.611668 -0.533383  ...              Pulp Fiction      154     8.9\n",
              "\n",
              "[5 rows x 29 columns]"
            ]
          },
          "metadata": {
            "tags": []
          },
          "execution_count": 3
        }
      ]
    },
    {
      "cell_type": "code",
      "metadata": {
        "id": "E9RJyDv5NaNg",
        "colab_type": "code",
        "colab": {}
      },
      "source": [
        "# Split dataset.\n",
        "y = data['rating']\n",
        "X = data.drop(['rating', 'movie'], axis = 1)\n",
        "\n",
        "train_X, val_X, train_y, val_y = train_test_split(X, y, random_state = 9, \\\n",
        "                                                  train_size = 0.85, \\\n",
        "                                                  test_size = 0.15)"
      ],
      "execution_count": 0,
      "outputs": []
    },
    {
      "cell_type": "code",
      "metadata": {
        "id": "OXBX54ifRJan",
        "colab_type": "code",
        "outputId": "7f82dfd9-3fc5-4d87-bc4f-2386fb7ce0ca",
        "colab": {
          "base_uri": "https://localhost:8080/",
          "height": 289
        }
      },
      "source": [
        "# Deep Neural Network\n",
        "def define_architecture():\n",
        "  model = Sequential()\n",
        "  model.add(Dense(50, input_dim=27, activation='relu'))\n",
        "  model.add(Dense(25, activation='relu'))\n",
        "  model.add(Dense(12, activation='relu'))\n",
        "  model.add(Dense(1))\n",
        "  return model\n",
        "\n",
        "nn_model = define_architecture()\n",
        "nn_model.summary()"
      ],
      "execution_count": 5,
      "outputs": [
        {
          "output_type": "stream",
          "text": [
            "Model: \"sequential\"\n",
            "_________________________________________________________________\n",
            "Layer (type)                 Output Shape              Param #   \n",
            "=================================================================\n",
            "dense (Dense)                (None, 50)                1400      \n",
            "_________________________________________________________________\n",
            "dense_1 (Dense)              (None, 25)                1275      \n",
            "_________________________________________________________________\n",
            "dense_2 (Dense)              (None, 12)                312       \n",
            "_________________________________________________________________\n",
            "dense_3 (Dense)              (None, 1)                 13        \n",
            "=================================================================\n",
            "Total params: 3,000\n",
            "Trainable params: 3,000\n",
            "Non-trainable params: 0\n",
            "_________________________________________________________________\n"
          ],
          "name": "stdout"
        }
      ]
    },
    {
      "cell_type": "code",
      "metadata": {
        "id": "ieEHq_Jc4Dct",
        "colab_type": "code",
        "outputId": "8c76ab4c-31af-409c-b16e-a16a19913f44",
        "colab": {
          "base_uri": "https://localhost:8080/",
          "height": 1000
        }
      },
      "source": [
        "nn_model.compile(loss='mean_squared_error', optimizer=Adam(lr=0.01))\n",
        "history = nn_model.fit(x=train_X.values, y=train_y.values, batch_size=64, epochs = 50)"
      ],
      "execution_count": 6,
      "outputs": [
        {
          "output_type": "stream",
          "text": [
            "Train on 8482 samples\n",
            "Epoch 1/50\n",
            "8482/8482 [==============================] - 1s 92us/sample - loss: 4.2670\n",
            "Epoch 2/50\n",
            "8482/8482 [==============================] - 0s 26us/sample - loss: 1.0194\n",
            "Epoch 3/50\n",
            "8482/8482 [==============================] - 0s 25us/sample - loss: 0.7730\n",
            "Epoch 4/50\n",
            "8482/8482 [==============================] - 0s 27us/sample - loss: 0.5498\n",
            "Epoch 5/50\n",
            "8482/8482 [==============================] - 0s 28us/sample - loss: 0.5405\n",
            "Epoch 6/50\n",
            "8482/8482 [==============================] - 0s 24us/sample - loss: 0.4111\n",
            "Epoch 7/50\n",
            "8482/8482 [==============================] - 0s 25us/sample - loss: 0.3655\n",
            "Epoch 8/50\n",
            "8482/8482 [==============================] - 0s 25us/sample - loss: 0.3702\n",
            "Epoch 9/50\n",
            "8482/8482 [==============================] - 0s 24us/sample - loss: 0.3180\n",
            "Epoch 10/50\n",
            "8482/8482 [==============================] - 0s 26us/sample - loss: 0.2929\n",
            "Epoch 11/50\n",
            "8482/8482 [==============================] - 0s 25us/sample - loss: 0.2739\n",
            "Epoch 12/50\n",
            "8482/8482 [==============================] - 0s 25us/sample - loss: 0.2749\n",
            "Epoch 13/50\n",
            "8482/8482 [==============================] - 0s 25us/sample - loss: 0.2494\n",
            "Epoch 14/50\n",
            "8482/8482 [==============================] - 0s 25us/sample - loss: 0.2524\n",
            "Epoch 15/50\n",
            "8482/8482 [==============================] - 0s 26us/sample - loss: 0.2596\n",
            "Epoch 16/50\n",
            "8482/8482 [==============================] - 0s 25us/sample - loss: 0.2628\n",
            "Epoch 17/50\n",
            "8482/8482 [==============================] - 0s 25us/sample - loss: 0.2415\n",
            "Epoch 18/50\n",
            "8482/8482 [==============================] - 0s 24us/sample - loss: 0.2340\n",
            "Epoch 19/50\n",
            "8482/8482 [==============================] - 0s 25us/sample - loss: 0.2392\n",
            "Epoch 20/50\n",
            "8482/8482 [==============================] - 0s 25us/sample - loss: 0.2444\n",
            "Epoch 21/50\n",
            "8482/8482 [==============================] - 0s 24us/sample - loss: 0.2306\n",
            "Epoch 22/50\n",
            "8482/8482 [==============================] - 0s 25us/sample - loss: 0.2324\n",
            "Epoch 23/50\n",
            "8482/8482 [==============================] - 0s 25us/sample - loss: 0.2454\n",
            "Epoch 24/50\n",
            "8482/8482 [==============================] - 0s 25us/sample - loss: 0.2356\n",
            "Epoch 25/50\n",
            "8482/8482 [==============================] - 0s 26us/sample - loss: 0.2328\n",
            "Epoch 26/50\n",
            "8482/8482 [==============================] - 0s 25us/sample - loss: 0.2396\n",
            "Epoch 27/50\n",
            "8482/8482 [==============================] - 0s 25us/sample - loss: 0.2191\n",
            "Epoch 28/50\n",
            "8482/8482 [==============================] - 0s 25us/sample - loss: 0.2223\n",
            "Epoch 29/50\n",
            "8482/8482 [==============================] - 0s 26us/sample - loss: 0.2228\n",
            "Epoch 30/50\n",
            "8482/8482 [==============================] - 0s 24us/sample - loss: 0.2215\n",
            "Epoch 31/50\n",
            "8482/8482 [==============================] - 0s 25us/sample - loss: 0.2411\n",
            "Epoch 32/50\n",
            "8482/8482 [==============================] - 0s 25us/sample - loss: 0.2221\n",
            "Epoch 33/50\n",
            "8482/8482 [==============================] - 0s 25us/sample - loss: 0.2227\n",
            "Epoch 34/50\n",
            "8482/8482 [==============================] - 0s 25us/sample - loss: 0.2174\n",
            "Epoch 35/50\n",
            "8482/8482 [==============================] - 0s 25us/sample - loss: 0.2160\n",
            "Epoch 36/50\n",
            "8482/8482 [==============================] - 0s 25us/sample - loss: 0.2206\n",
            "Epoch 37/50\n",
            "8482/8482 [==============================] - 0s 25us/sample - loss: 0.2177\n",
            "Epoch 38/50\n",
            "8482/8482 [==============================] - 0s 26us/sample - loss: 0.2218\n",
            "Epoch 39/50\n",
            "8482/8482 [==============================] - 0s 27us/sample - loss: 0.2166\n",
            "Epoch 40/50\n",
            "8482/8482 [==============================] - 0s 25us/sample - loss: 0.2199\n",
            "Epoch 41/50\n",
            "8482/8482 [==============================] - 0s 24us/sample - loss: 0.2209\n",
            "Epoch 42/50\n",
            "8482/8482 [==============================] - 0s 24us/sample - loss: 0.2181\n",
            "Epoch 43/50\n",
            "8482/8482 [==============================] - 0s 25us/sample - loss: 0.2161\n",
            "Epoch 44/50\n",
            "8482/8482 [==============================] - 0s 25us/sample - loss: 0.2145\n",
            "Epoch 45/50\n",
            "8482/8482 [==============================] - 0s 27us/sample - loss: 0.2248\n",
            "Epoch 46/50\n",
            "8482/8482 [==============================] - 0s 25us/sample - loss: 0.2156\n",
            "Epoch 47/50\n",
            "8482/8482 [==============================] - 0s 24us/sample - loss: 0.2158\n",
            "Epoch 48/50\n",
            "8482/8482 [==============================] - 0s 25us/sample - loss: 0.2147\n",
            "Epoch 49/50\n",
            "8482/8482 [==============================] - 0s 25us/sample - loss: 0.2111\n",
            "Epoch 50/50\n",
            "8482/8482 [==============================] - 0s 25us/sample - loss: 0.2147\n"
          ],
          "name": "stdout"
        }
      ]
    },
    {
      "cell_type": "code",
      "metadata": {
        "id": "N27N6r7NPmq2",
        "colab_type": "code",
        "outputId": "1949a070-bf26-41c8-bbb7-c8b725541d75",
        "colab": {
          "base_uri": "https://localhost:8080/",
          "height": 282
        }
      },
      "source": [
        "plt.plot(history.history['loss'])"
      ],
      "execution_count": 7,
      "outputs": [
        {
          "output_type": "execute_result",
          "data": {
            "text/plain": [
              "[<matplotlib.lines.Line2D at 0x7f610fa112e8>]"
            ]
          },
          "metadata": {
            "tags": []
          },
          "execution_count": 7
        },
        {
          "output_type": "display_data",
          "data": {
            "image/png": "[encoded data removed]",
            "text/plain": [
              "<Figure size 432x288 with 1 Axes>"
            ]
          },
          "metadata": {
            "tags": []
          }
        }
      ]
    },
    {
      "cell_type": "code",
      "metadata": {
        "id": "v3Q5wSBj8D8B",
        "colab_type": "code",
        "outputId": "1e625e9c-3ac5-4ec1-efb3-54288fe8cd18",
        "colab": {
          "base_uri": "https://localhost:8080/",
          "height": 71
        }
      },
      "source": [
        "preds = nn_model.evaluate(x=val_X.values, y=val_y.values)\n",
        "print(preds)"
      ],
      "execution_count": 8,
      "outputs": [
        {
          "output_type": "stream",
          "text": [
            "\r1497/1 [==============================================================================================================================================================================================================================================================================================================================================================================================================================================================================================================================================================================================================================================================================================================================================================================================================================================================================================================================================================================================================================================================================================================================================================================================================================================================================================================================================================================================================================================================================================================================================================================================================================================================================================================================================================================================================================================================================================================================================================================================================================================================================================================================================================================================================================================================================================================================================================================================================================================================================================================================================================================================================================================================================================================================================================================================================================================================================================================================================================================================================================================================================================================================================================================================================================================================================================================================================================================================================================================================================================================================================================================================================================================================================================================================================================================================================================================================================================================================================================================================================================================================================================================================================================================================================================================================================================================================================================================================================================================================================================================================================================================================================================================================================================================================================================================================================================================================================================================================================================================================================================================================================================================================================================================================================================================================================================================================================================================================================================================================================================================================================================================================================================================================================================================================================================================================================================================================================================================================================================================================================================================================================================================================================================================================================================================================================================================================================================================================================================================================================================================================================================================================================================================================================================================================================================================================================================================================================================================================================================================================================================================================================================================================================================================================================================================================================================================================================================================================================================================================================================================================================================================================================================================================================================================================================================================================================================================================================================================================================================================================================================================================================================================================================================================================================================================================================================================================================================================================================================================================================================================================================================================================================================================================================================================================================================================================================================================================================================================================================================================================================================================================================================================================================================================================================================================================================================================================================================================================================================================================================================================================================================================================================================================================================================================================================================================================================================================================================================================================================================================================================================================================================================================================================================================================================================================================================================================================================================================================================================================================================================================================================================================================================================================================================================================================================================================================================================================================================================================================================================================================================================================================================================================================================================================================================================================================================================================================================================================================================================================================================================================================================================================================================================================================================================================================================================================================================================================================================================================================================================================================================================================================================================================================================================================================================================================================================================================================================================================================================================================================================================================================================================================================================================================================================================================================================================================================================================================================================================================================================================================================================================================================================================================================================================================================================================================================================================================================================================================================================================================================================================================================================================================================================================================================================================================================================================================================================================================================================================================================================================================================================================================================================================================================================================================================================================================================================================================================================================================================================================================================================================================================================================================================================================================================================================================================================================================================================================================================================================================================================================================================================================================================================================================================================================================================================================================================================================================================================================================================================================================================================================================================================================================================================================================================================================================================================================================================================================================================================================================================================================================================================================================================================================================================================================================================================================================================================================================================================================================================================================================================================================================================================================================================================================================================================================================================================================================================================================================================================================================================================================================================================================================================================================================================================================================================================================================================================================================================================================================================================================================================================================================================================================================================================================================================================================================================================================================================================================================================================================================================================================================================================================================================================================================================================================================================================================================================================================================================================================================================================================================================================================================================================================================================================================================================================================================================================================================================================================================================================================================================================================================================================================================================================================================================================================================================================================================================================================================================================================================================================================================================================================================================================================================================================================================================================================================================================================================================================================================================================================================================================================================================================================================================================================================================================================================================================================================================================================================================================================================================================================================================================================================================================================================================================================================================================================================================================================================================================================================================================================================================================================================================================================================================================================================================================================================================================================================================================================================================================================================================================================================================================================================================================================================================================================================================================================================================================================================================================================================================================================================================================================================================================================================================================================================================================================================================================================================================================================================================================================================================================================================================================================================================================================================================================================================================================================================================================================================================================================================================================================================================================================================================================================================================================================================================================================================================================================================================================================================================================================================================================================================================================================================================================================================================================================================================================================================================================================================================================================================================================================================================================================================================================================================================================================================================================================================================================================================================================================================================================================================================================================================================================================================================================================================================================================================================================================================================================================================================================================================================================================================================================================================================================================================================================================================================================================================================================================================================================================================================================================================================================================================================================================================================================================================================================================================================================================================================================================================================================================================================================================================================================================================================================================================================================================================================================================================================================================================================================================================================================================================================================================================================================================================================================================================================================================================================================================================================================================================================================================================================================================================================================================================================================================================================================================================================================================================================================================================================================================================================================================================================================================================================================================================================================================================================================================================================================================================================================================================================================================================================================================================================================================================================================================================================================================================================================================================================================================================================================================================================================================================================================================================================================================================================================================================================================================================================================================================================================================================================================================================================================================================================================================================================================================================================================================================================================================================================================================================================================================================================================================================================================================================================================================================================================================================================================================================================================================================================================================================================================================================================================================================================================================================================================================================================================================================================================================================================================================================================================================================================================================================================================================================================================================================================================================================================================================================================================================================================================================================================================================================================================================================================================================================================================================================================================================================================================================================================================================================================================================================================================================================================================================================================================================================================================================================================================================================================================================================================================================================================================================================================================================================================================================================================================================================================================================================================================================================================================================================================================================================================================================================================================================================================================================================================================================================================================================================================================================================================================================================================================================================================================================================================================================================================================================================================================================================================================================================================================================================================================================================================================================================================================================================================================================================================================================================================================================================================================================================================================================================================================================================================================================================================================================================================================================================================================================================================================================================================================================================================================================================================================================================================================================================================================================================================================================================================================================================================================================================================================================================================================================================================================================================================================================================================================================================================================================================================================================================================================================================================================================================================================================================================================================================================================================================================================================================================================================================================================================================================================================================================================================================================================================================================================================================================================================================================================================================================================================================================================================================================================================================================================================================================================================================================================================================================================================================================================================================================================================================================================================================================================================================================================================================================================================================================================================================================================================================================================================================================================================================================================================================================================================================================================================================================================================================================================================================================================================================================================================================================================================================================================================================================================================================================================================================================================================================================================================================================================================================================================================================================================================================================================================================================================================================================================================================================================================================================================================================================================================================================================================================================================================================================================================================================================================================================================================================================================================================================================================================================================================================================================================================================================================================================================================================================================================================================================================================================================================================================================================================================================================================================================================================================================================================================================================================================================================================================================================================================================================================================================================================================================================================================================================================================================================================================================================================================================================================================================================================================================================================================================================================================================================================================================================================================================================================================================================================================================================================================================================================================================================================================================================================================================================================================================================================================================================================================================================================================================================================================================================================================================================================================================================================================================================================================================================================================================================================================================================================================================================================================================================================================================================================================================================================================================================================================================================================================================================================================================================================================================================================================================================================================================================================================================================================================================================================================================================================================================================================================================================================================================================================================================================================================================================================================================================================================================================================================================================================================================================================================================================================================================================================================================================================================================================================================================================================================================================================================================================================================================================================================================================================================================================================================================================================================================================================================================================================================================================================================================================================================================================================================================================================================================================================================================================================================================================================================================================================================================================================================================================================================================================================================================================================================================================================================================================================================================================================================================================================================================================================================================================================================================================================================================================================================================================================================================================================================================================================================================================================================================================================================================================================================================================================================================================================================================================================================================================================================================================================================================================================================================================================================================================================] - 0s 58us/sample - loss: 0.1379\n",
            "0.21911351553194908\n"
          ],
          "name": "stdout"
        }
      ]
    },
    {
      "cell_type": "code",
      "metadata": {
        "id": "KsH9f3uFPj_H",
        "colab_type": "code",
        "colab": {}
      },
      "source": [
        "nn_model.save('my_model.h5')"
      ],
      "execution_count": 0,
      "outputs": []
    },
    {
      "cell_type": "markdown",
      "metadata": {
        "id": "hbJ7G7OIQX4R",
        "colab_type": "text"
      },
      "source": [
        "# Using the model we created"
      ]
    },
    {
      "cell_type": "code",
      "metadata": {
        "id": "e_JOZ0YHQL5w",
        "colab_type": "code",
        "outputId": "8e5165b8-fe8d-42ce-edc3-7bbfa66fecac",
        "colab": {
          "base_uri": "https://localhost:8080/",
          "height": 34
        }
      },
      "source": [
        "%reset"
      ],
      "execution_count": 10,
      "outputs": [
        {
          "output_type": "stream",
          "text": [
            "Once deleted, variables cannot be recovered. Proceed (y/[n])? y\n"
          ],
          "name": "stdout"
        }
      ]
    },
    {
      "cell_type": "code",
      "metadata": {
        "id": "qC95kxM2P101",
        "colab_type": "code",
        "colab": {}
      },
      "source": [
        "from tensorflow.keras.models import load_model\n",
        "import pandas as pd\n",
        "import numpy as np\n",
        "\n",
        "data = pd.read_csv('processed_data.csv')\n",
        "data.head()\n",
        "\n",
        "nn_model = load_model('my_model.h5')"
      ],
      "execution_count": 0,
      "outputs": []
    },
    {
      "cell_type": "code",
      "metadata": {
        "id": "OuIy6Sr6QBbQ",
        "colab_type": "code",
        "outputId": "238c9113-6e7c-469a-da3f-85f3f3587601",
        "colab": {
          "base_uri": "https://localhost:8080/",
          "height": 68
        }
      },
      "source": [
        "check = data.iloc[[15]]\n",
        "name = check.movie.values[0]\n",
        "check = check.drop(['rating', 'movie'], axis = 1)\n",
        "pred = float(nn_model.predict(check.values)[0])\n",
        "pred = round(pred, 2)\n",
        "print(name)\n",
        "print(f\"predicted rating: {pred}\")\n",
        "print(f\"original rating: {data.rating.values[data['movie'] == name][0]}\")"
      ],
      "execution_count": 20,
      "outputs": [
        {
          "output_type": "stream",
          "text": [
            "Batman Begins\n",
            "predicted rating: 8.0\n",
            "original rating: 8.2\n"
          ],
          "name": "stdout"
        }
      ]
    }
  ]
}